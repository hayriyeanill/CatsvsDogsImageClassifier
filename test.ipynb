{
  "nbformat": 4,
  "nbformat_minor": 0,
  "metadata": {
    "colab": {
      "name": "test.ipynb",
      "provenance": [],
      "toc_visible": true,
      "mount_file_id": "1V-8d_53qxAVUKC3HzS4oFh3he89L54oV",
      "authorship_tag": "ABX9TyPwbVpSXfZI9OEkgFlmh/4m",
      "include_colab_link": true
    },
    "kernelspec": {
      "name": "python3",
      "display_name": "Python 3"
    },
    "accelerator": "GPU"
  },
  "cells": [
    {
      "cell_type": "markdown",
      "metadata": {
        "id": "view-in-github",
        "colab_type": "text"
      },
      "source": [
        "<a href=\"https://colab.research.google.com/github/hayriyeanill/image_classification/blob/main/test.ipynb\" target=\"_parent\"><img src=\"https://colab.research.google.com/assets/colab-badge.svg\" alt=\"Open In Colab\"/></a>"
      ]
    },
    {
      "cell_type": "markdown",
      "metadata": {
        "id": "QGNFX_xjSiK_"
      },
      "source": [
        "# Tensorflow Nedir? \r\n",
        "\r\n",
        "Google tarafından geliştirilen açık kaynaklı TensorFlow, derin öğrenme ve makine öğrenimi destekli yapay zekâ uygulamaları geliştirmek için kullanılan kütüphanelerden biridir. Temelinde Python ile geliştirilmiştir ve C++, Java, C#, Javascript, R gibi birçok dili desteklemektedir."
      ]
    },
    {
      "cell_type": "markdown",
      "metadata": {
        "id": "1JVJXoH6SHK-"
      },
      "source": [
        "# Google Colab Nedir, Nasıl Kullanılır?\r\n",
        "\r\n",
        "* Google Colab, Google Drive'da kod yazmanıza, çalıştırmanıza ve paylaşmanıza olanak tanıyan çalıştırılabilir bir belgedir. \r\n",
        "* Bir not defteri belgesi, her biri kod, metin, görüntü ve daha  fazlasını içerebilen hücrelerden oluşur. \r\n",
        "* Colab, dizüstü bilgisayarınızı bulut tabanlı bir çalışma zamanına bağlar, yani kendi makinenizde gerekli herhangi bir kurulum olmadan Python kodunu çalıştırabilmenizi sağlar. \r\n",
        "* Ek kod hücreleri aynı çalışma zamanı kullanılarak yürütülür ve Python'un sunduğu herhangi bir işlevselliği kullanabileceğiniz zengin, etkileşimli bir kodlama deneyimi sağlar.\r\n",
        "* Yazdığınız koda açıklama eklemek için metin hücrelerini kullanmak, kod dökümantasyonu oluşturmanıza yardımcı olur. \r\n",
        "* Not defterlerinizi başkalarıyla paylaşmak isterseniz, bunu Google Drive Paylaşımı aracılığıyla veya not defterinizi Github'a aktararak yapabilirsiniz. Aynı zamanda, Jupyter Notebook ve JupyterLab gibi başka platformlarda görüntülenebilir ve çalıştırılabilir. "
      ]
    },
    {
      "cell_type": "markdown",
      "metadata": {
        "id": "S4kvCMulhNBe"
      },
      "source": [
        "# Bilgisayar Görüşü (Computer Vision)\r\n",
        "\r\n",
        "Görüş, dünyada neyin mevcut olduğunu, nerede olduğunu, hangi eylemlerin gerçekleştiğini keşfetmek,  olayları tahmin etmek ve ona göre davranmaktır.\r\n",
        "Bilgisayar görüşü, bir bilgisayarın bir görüntüde mevcut olanı anlaması ve etiketlemesidir.\r\n",
        "\r\n",
        "Derin öğrenme, fotoğraflar ve videoların işlenmesi, yüzleri veya nesneleri algılama, sağlık sektöründe hastaların görüntüleri ve taramaları (tomografi, MR vs) ile  meme kanseri, cilt kanseri ve covid gibi teşhisleri tahmin etmede görsel ipuçlarını kullanmasına izin veren bilgisayar görme algoritmaları ve uygulamalarını yeni bir evreye taşıyor.\r\n",
        "\r\n",
        "**Bir bilgisayar, bir görüntüyü nasıl görür, nasıl işler?**\r\n",
        "\r\n",
        "Bilgisayar için görüntüler iki boyutlu sayı listeleridir. Bu sayıların her biri piksel adı verilen  0 ila 1 veya 0 ila 255 aralığıyla temsil edilir. Bu gri tonlamalı görüntü demektir ve bu görüntü bu sayıların iki boyutlu matrisi olarak gösterilebilir. Eğer görüntü renkli ise bu üç sayı (kırmızı, yeşil ve mavi) RGB (red, green, blue) ile temsil edilir ve bu görüntü üç boyutlu bir dizi ile gösterilebilir."
      ]
    },
    {
      "cell_type": "markdown",
      "metadata": {
        "id": "rcr4kIvX6KnM"
      },
      "source": [
        "# Evrişimsel Sinir Ağları (Convolutional Neural Networks)\r\n",
        "\r\n",
        "Görüntü tanıma ve işlem problemlerinde kullanılan bir tür yapay sinir ağıdır. \r\n",
        "CNN, özellikle görüntü sınıflandırma görevi için tasarlanmıştır. \r\n",
        "Basit bir CNN tasarımında amaç, özellikleri(features) doğrudan görüntü verilerinden öğrenmek ve bu öğrenilen özellikleri(features), bir görüntü sınıflandırma görevi ile eşleştirmektir.\r\n",
        "\r\n",
        "Bir CNN'nin özü olan üç ana bileşen ve işlem vardır:\r\n",
        "\r\n",
        "*   **Evrişimli(Convolutional):** Özellik (features) haritaları oluşturmak ve bir görüntüdeki özellikleri (features) tespit etmek için filtreler uygulamak için kullanılır.\r\n",
        "*   **Doğrusal olmayan (Non-linearity):** Doğrusal olmayan özelliklerden (features) çıkardığımız özelliklerle (features) başa çıkmamıza yardımcı olur.\r\n",
        "*   **Havuzlama (Pooling):** Her özellik (features) haritasında alt örnekleme işlemidir, ve boyutunu küçültmeyi sağlar.\r\n",
        "\r\n",
        "Bir görüntü sınıflandırma görevi tanımladığımızda yaptığımız bir puan sınıfının hesaplanması, aslında evrişim (convolutional), doğrusal olmama (non-linearity) ve havuzlama (pooling) yoluyla elde ettiğimiz bu özellikler kullanılarak gerçekleştirilir. Daha sonra bu öğrenilen özellikler tamamen bağlı bir ağa veya yoğun katmana geçirilir.\r\n"
      ]
    },
    {
      "cell_type": "markdown",
      "metadata": {
        "id": "ts8bfUJCeCBo"
      },
      "source": [
        "# Pilot Proje: Kedi ya da Köpek Görüntü Sınıflandırma\r\n",
        "\r\n",
        "Bu projede, Tensorflow veri kümesi koleksiyonu içerisinde yer alan kullanıma hazır kedi ve köpek veri kümesi kullanılarak Tensorflow ile nasıl görüntü sınıflandırılacağı anlatılmıştır.\r\n",
        "Orjinal veri kümesi 11500 tane kedi ve 11500 köpek resminden oluşmaktadır. \r\n",
        "Bu projede ise 600 tane kedi ve 600 köpek resmi kullanacağız. \r\n",
        "\r\n",
        "Orjinal veriseti linkine buradan ulaşabilirsiniz.\r\n",
        "https://www.microsoft.com/en-us/download/details.aspx?id=54765\r\n",
        "\r\n"
      ]
    },
    {
      "cell_type": "markdown",
      "metadata": {
        "id": "vMTBwA2zm8na"
      },
      "source": [
        "Veri kümesini Google Drive'a indirdikten sonra, Drive içindeki dosyalara ulaşmak için mount komutunu kullanacağız. Öncelikle Drive,   dosyalara erişmeye izin vermek için bir bağlantıyı ziyaret etmenizi isteyecektir. Bundan sonra, Colab Notebook'da girilmesi gereken uzun bir alfanümerik kimlik doğrulama kodu gösterilecektir. Doğrulama kodunu girdikten sonra Drive içindeki dosyalara erişim sağlamış olacaksınız.\r\n",
        "\r\n",
        " \r\n",
        "\r\n"
      ]
    },
    {
      "cell_type": "code",
      "metadata": {
        "id": "4rLuyD5wBKIx"
      },
      "source": [
        "import tensorflow as tf\r\n",
        "from google.colab import drive\r\n",
        "import shutil\r\n",
        "import os\r\n",
        "\r\n",
        "drive.mount('/content/drive')"
      ],
      "execution_count": null,
      "outputs": []
    },
    {
      "cell_type": "markdown",
      "metadata": {
        "id": "q5W0OzlqsjZk"
      },
      "source": [
        "Aşağıdaki python kodu, İşletim Sistemi kütüphanesi kullanarak OS komutu ile dosya sistemine erişimi sağlayacaktır.\r\n",
        "Projenin yer aldığı image_classification dizin yolunu (path) yazdıktan sonra önce doğru yerde olduğumuzdan emin olmak için **!pwd** daha sonra klasör içindeki dosyaları görmek için **!ls** komutu kullanacağız."
      ]
    },
    {
      "cell_type": "code",
      "metadata": {
        "id": "Tjs5iVrLtOQB"
      },
      "source": [
        "base_dir = os.chdir(\"/content/drive/MyDrive/image_classification/\")\r\n",
        "!pwd\r\n",
        "!ls"
      ],
      "execution_count": null,
      "outputs": []
    },
    {
      "cell_type": "markdown",
      "metadata": {
        "id": "noRF7OZItbhl"
      },
      "source": [
        "Gördüğünüz gibi image_classification dizini içinde PetImages ve Google Colab Notebook var. PetImages dizini içinde sırayla kedi ve köpek görüntülerini içeren Cat ve Dog alt dizinleri bulunur.\r\n",
        "Asıl veri kaynağımızdan (PetImages) Cat ve Dog dizinlerinin yolunu (path) yazıyoruz."
      ]
    },
    {
      "cell_type": "code",
      "metadata": {
        "id": "H2Ye52RIuZSV"
      },
      "source": [
        "original_src = '/content/drive/MyDrive/image_classification/PetImages'\r\n",
        "print(os.listdir(original_src))\r\n",
        "\r\n",
        "src_cat = os.path.join(original_src, 'Cat')\r\n",
        "cat_dir = os.listdir(src_cat)\r\n",
        "\r\n",
        "src_dog = os.path.join(original_src, 'Dog')\r\n",
        "dog_dir = os.listdir(src_dog)\r\n",
        "\r\n",
        "print(len(cat_dir), len(dog_dir))"
      ],
      "execution_count": null,
      "outputs": []
    },
    {
      "cell_type": "markdown",
      "metadata": {
        "id": "0ozsRcm5uqLr"
      },
      "source": [
        "Yeni bir sinir ağı kurarken, modelin görüntüleri tanımada ne kadar iyi olduğunu test etmek için henüz görmediği sinir ağını ve benzer verileri eğitmek adına verilerin bir kısmını kullanmak güzel bir stratejidir. \r\n",
        "Toplamda 1200 görüntünün (600 kedi, 600 köpek) 1000 tanesini modeli eğitmek için kalan 200 görüntüyü ne kadar iyi ya da kötü performans gösterdiğini test etmek için kullanacağız.\r\n",
        "Bunun için öncelikle image_classification dizini içine train ve validation isimli yeni alt dizinler oluşturalım. Ardından her iki dizin içine Cat ve Dog isimli alt dizinler ekleyelim.\r\n",
        "Bu kod sonunda dizin içeriğinin görünümü aşağıdaki gibi olacaktır.\r\n",
        "\r\n",
        "![image.png](data:image/png;base64,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)\r\n",
        "\r\n",
        "**NOT:** os.mkdir() komutu yeni dosya oluşturur ve bunu bir kere yapar. Yeni dosya oluştuktan sonra tekrar kod hücresini çalıştırmak varolan dosya oluşturulamıyor hatası verir. Bu nedenle bir kere çalıştırdıktan sonra bu komutu yoruma (comment içine) alıyoruz.\r\n",
        "\r\n",
        "\r\n"
      ]
    },
    {
      "cell_type": "code",
      "metadata": {
        "id": "U_4aBZI7eYg8"
      },
      "source": [
        "# Create train and validation folder\r\n",
        "train = os.path.join('/content/drive/MyDrive/image_classification/', 'train')\r\n",
        "#os.mkdir(train)\r\n",
        "\r\n",
        "train_cat = os.path.join(train, 'Cat')\r\n",
        "#os.mkdir(train_cat)\r\n",
        "\r\n",
        "train_dog = os.path.join(train, 'Dog')\r\n",
        "#os.mkdir(train_dog)\r\n",
        "\r\n",
        "validation = os.path.join('/content/drive/MyDrive/image_classification/', 'validation')\r\n",
        "#os.mkdir(validation)\r\n",
        "\r\n",
        "validation_cat = os.path.join(validation, 'Cat')\r\n",
        "#os.mkdir(validation_cat)\r\n",
        "\r\n",
        "validation_dog = os.path.join(validation, 'Dog')\r\n",
        "#os.mkdir(validation_dog)\r\n",
        "\r\n",
        "\r\n"
      ],
      "execution_count": null,
      "outputs": []
    },
    {
      "cell_type": "markdown",
      "metadata": {
        "id": "nXLi83lyweOW"
      },
      "source": [
        "Kedi ve Köpek görüntülerini ayrı dizinlerde ayırmış olsak bile aynı isimdeki görüntü dosyası karmaşıklığını gidermek için kedi dizini içindeki görüntü adlarının başına \"cat_\", köpek dizini içindeki görüntü adlarının başına \"dog_\" yazarak görüntü isimlerini yeniliyoruz. \r\n",
        "\r\n",
        "**NOT:** Bu kod hücresi sadece isim yineleme fonksiyonu olduğu bir daha çalıştırılmayacaktır."
      ]
    },
    {
      "cell_type": "code",
      "metadata": {
        "id": "QUYFqUD1b6XN"
      },
      "source": [
        "def rename_image_labels(new_name, file, src):\r\n",
        "  for filename in file:\r\n",
        "    old_name_dir = os.path.join(src, filename)\r\n",
        "    new_name_dir = os.path.join(src, new_name + filename)\r\n",
        "    print(old_name_dir, new_name_dir)\r\n",
        "    os.rename(old_name_dir, new_name_dir)\r\n",
        "\r\n",
        "rename_image_labels(\"cat_\", cat_dir, src_cat)\r\n",
        "rename_image_labels(\"dog_\", dog_dir, src_dog)\r\n"
      ],
      "execution_count": null,
      "outputs": []
    },
    {
      "cell_type": "markdown",
      "metadata": {
        "id": "QZCnYHPpxKA8"
      },
      "source": [
        "Burada PetImages klasörü içindeki kedi ve köpek alt dizinlerinde bulunan her ilk 500 görüntüyü train dizinindeki kedi ve köpek alt dizinine, geri kalan 100 görüntüyü validation dizinine kopyalıyoruz. \r\n",
        "\r\n",
        "**NOT:** Bu kod hücresinde görüntü kopyalama ve taşıma işlemi bir kez yapılacağından, bir daha çalıştırılmayacaktır."
      ]
    },
    {
      "cell_type": "code",
      "metadata": {
        "id": "29w7oMCFBWhC"
      },
      "source": [
        "# There are 600 images in the cat and dog directories\r\n",
        "# 200 images for validation and 1000 images for training\r\n",
        "def upload_train_file(file_name, src_dir, dst_dir):\r\n",
        "  fname = [file_name +'{}.jpg'.format(i) for i in range(500)]\r\n",
        "  for f in fname:\r\n",
        "    src = os.path.join(src_dir, f)\r\n",
        "    dst = os.path.join(dst_dir, f)\r\n",
        "    print(\"src\",src)\r\n",
        "    print(\"dst\",dst)\r\n",
        "    shutil.copyfile(src,dst)\r\n",
        "\r\n",
        "\r\n",
        "def upload_validation_file(file_name, src_dir, dst_dir):\r\n",
        "  fname = [file_name +'{}.jpg'.format(i) for i in range(500,600)]\r\n",
        "  for f in fname:\r\n",
        "    src = os.path.join(src_dir, f)\r\n",
        "    dst = os.path.join(dst_dir, f)\r\n",
        "    print(\"src\",src)\r\n",
        "    print(\"dst\",dst)\r\n",
        "    shutil.copyfile(src,dst)\r\n",
        "\r\n",
        "upload_train_file(\"cat_\", src_cat, train_cat)\r\n",
        "upload_train_file(\"dog_\", src_dog, train_dog)\r\n",
        "upload_validation_file(\"cat_\", src_cat, validation_cat)\r\n",
        "upload_validation_file(\"dog_\", src_dog, validation_dog)"
      ],
      "execution_count": null,
      "outputs": []
    },
    {
      "cell_type": "markdown",
      "metadata": {
        "id": "dAuOpF5sNLTn"
      },
      "source": [
        "Train dizinindeki Cat ve Dog alt dizinlerindeki görüntülerden 8 tanesini 4x4 yapılandırmasında gösterelim. "
      ]
    },
    {
      "cell_type": "code",
      "metadata": {
        "id": "RMWaod6sPEL7"
      },
      "source": [
        "train_cat_dir = os.listdir(train_cat)\r\n",
        "train_dog_dir = os.listdir(train_dog)\r\n",
        "validation_cat_dir = os.listdir(validation_cat)\r\n",
        "validation_dog_dir = os.listdir(validation_dog)\r\n",
        "\r\n",
        "print(len(train_cat_dir), len(validation_cat_dir))\r\n",
        "print(len(train_dog_dir), len(validation_dog_dir))\r\n",
        "\r\n",
        "\r\n",
        "%matplotlib inline\r\n",
        "\r\n",
        "import matplotlib.pyplot as plt\r\n",
        "import matplotlib.image as mpimg\r\n",
        "\r\n",
        "\r\n",
        "# Index for iterating over images\r\n",
        "pic_index = 0\r\n",
        "\r\n",
        "# Set up matplotlib fig, and size it to fit 4x4 pics\r\n",
        "fig = plt.gcf()\r\n",
        "fig.set_size_inches(4 * 4, 4 * 4)\r\n",
        "\r\n",
        "pic_index += 8\r\n",
        "next_dog_pix = [os.path.join(train_dog, fname) for fname in train_dog_dir[pic_index-8:pic_index]]\r\n",
        "next_cat_pix = [os.path.join(train_cat, fname) for fname in train_cat_dir[pic_index-8:pic_index]]\r\n",
        "\r\n",
        "for i, img_path in enumerate(next_dog_pix+next_cat_pix):\r\n",
        "  sp = plt.subplot(4, 4, i + 1)\r\n",
        "  sp.axis('Off') # Don't show axes \r\n",
        "\r\n",
        "  img = mpimg.imread(img_path)\r\n",
        "  plt.imshow(img)\r\n",
        "\r\n",
        "plt.show()\r\n",
        "\r\n"
      ],
      "execution_count": null,
      "outputs": []
    },
    {
      "cell_type": "markdown",
      "metadata": {
        "id": "nJ1f7krLduZn"
      },
      "source": [
        "### Model Oluşturma\r\n",
        "\r\n",
        "Artık model tanımlamaya başlayabiliriz.\r\n",
        "\r\n",
        "Bir sinir ağını bir dizi sıralı (sequential) katman olarak tanımlama çerçevesine **Keras** denir. Keras, Tensorflow’u backend olarak kullanan bir alt yordam, ikinci bir sınıf çağrısıdır. Modelleri tanımlama ve eğitmede kullanılır.\r\n",
        "\r\n",
        "Sıralı (sequential) katman içerisine önce evrişimli (convolutional) ve havuzlama (pooling) katmanlarını ekliyoruz. Her nöron katmanının, onlara ne yapacaklarını söylemek için bir aktivasyon işlevine ihtiyacı vardır. Burada Relu fonksiyonu kullanacağız. Relu negatif değerlerin atılacağı anlamına gelmektedir.\r\n",
        "* İlk katmanda 16 filtre oluşturmasını istiyoruz. BU filtreler 3'e 3'tür, etkinleştirmeleri (activation) Relu'dur. Son olarak input shape(girdi şekli) 150x150'dir (istenilen görüntü boyutu) ve fazladan 3 bayt, renk derinliğinin RGB (red, green, blue) olduğunu belirtir. \r\n",
        "*  Bir sonraki katmanda havuzlama (pooling) katmanı var. Bu ikiye iki maksimum havuz, her dört piksel içinde en büyüğünü alacaktır.\r\n",
        "*   2 defa daha evrişimli (convolutional) katman ve havuzlama (pooling) katmanı ekliyoruz. Böylece ağ mevcut olanın üzerine başka bir evrişim kümesini öğrenebilir ve ardından boyutu küçültmek için tekrar havuzu öğrenebilir.\r\n",
        "*   Görüntü Flatten katmanına gittiğinde içeriği büyük ölçüde basitleştirilmiş, daha da küçülmüş olacaktır ve Flatten bu görüntüyü alır, onu basit tek boyutlu bir doğrusal diziye dönüştürür. Burada amaç evrişimlerin (convolutional) çıktıyı(output) belirleyen özelliklere göre filtrelemesidir.\r\n",
        "*   Gizli katman içinde 512 nöron var.\r\n",
        "*   Son olarak 1 çıktılı (output) nöron var. Aktivasyon fonksiyonu sigmoid; bir sınıf ('köpek') için 0 ve diğeri için ('kedi') 1 olmak üzere 0-1 arasında bir değer içerecektir.\r\n",
        "*   model.summary() komutu, modelin katmanlarını incelemeyi ve görüntünün ağlar arasındaki yolunu görmemizi sağlar."
      ]
    },
    {
      "cell_type": "code",
      "metadata": {
        "id": "hTDfTeb37Fvl"
      },
      "source": [
        "model = tf.keras.models.Sequential([\r\n",
        "    # This is the first convolution\r\n",
        "    tf.keras.layers.Conv2D(16, (3,3), activation='relu', input_shape=(150, 150, 3)),\r\n",
        "    tf.keras.layers.MaxPooling2D(2, 2),\r\n",
        "    # The second convolution\r\n",
        "    tf.keras.layers.Conv2D(32, (3,3), activation='relu'),\r\n",
        "    tf.keras.layers.MaxPooling2D(2,2),\r\n",
        "    # The third convolution\r\n",
        "    tf.keras.layers.Conv2D(64, (3,3), activation='relu'),\r\n",
        "    tf.keras.layers.MaxPooling2D(2,2),\r\n",
        "    # Flatten\r\n",
        "    tf.keras.layers.Flatten(),\r\n",
        "    # 512 neuron hidden layer\r\n",
        "    tf.keras.layers.Dense(512, activation='relu'),\r\n",
        "    # Only 1 output neuron\r\n",
        "    tf.keras.layers.Dense(1, activation='sigmoid')\r\n",
        "])\r\n",
        "\r\n",
        "model.summary()"
      ],
      "execution_count": null,
      "outputs": []
    },
    {
      "cell_type": "markdown",
      "metadata": {
        "id": "BjPde2b9SWA5"
      },
      "source": [
        "Ardından, model eğitimi için özellikleri (features) yapılandıracağız. Modeli ikili sınıflandırma (binary classification) yaptığımız için kayıp fonksiyonu (loss function) olarak binary_crossentropy kaybı ile eğitecek, performansla deney yapmak için öğrenme oranını ayarlayabileceğimiz (bu durumda 0,001) RMSprop ile optimize edeceğiz. Bu eğitim sırasında, sınıflandırma doğruluğunu izleyecektir."
      ]
    },
    {
      "cell_type": "code",
      "metadata": {
        "id": "1GdDeOf-7Tv-"
      },
      "source": [
        "from tensorflow.keras.optimizers import RMSprop\r\n",
        "\r\n",
        "model.compile(loss='binary_crossentropy',\r\n",
        "              optimizer=RMSprop(lr=0.001),\r\n",
        "              metrics=['accuracy'])"
      ],
      "execution_count": null,
      "outputs": []
    },
    {
      "cell_type": "markdown",
      "metadata": {
        "id": "MJ7TJb-TThJd"
      },
      "source": [
        "### Veri Ön İşleme\r\n",
        "\r\n",
        "Image Generator (Görüntü Oluşturucu), görüntüyü bir dizine işaret edebilmeyi ve daha sonra alt dizinlere otomatik olarak etiket oluşturmayı sağlar.\r\n",
        "Örneğin train ve validation alt dizinlerinde bulunan kedi ve köpek için oluşturduğumuz dizinlere, gerekli görüntüleri depoladığımızda, görüntü oluşturucu bu görüntüler için bir besleyici oluşturabilir ve bunları otomatik olarak etiketleyebilir. Yani train dizininde bir görüntü oluşturucuyu işaret edersem, etiketler kedi ve köpek olacak ve her dizindeki tüm görüntüler buna göre yüklenecek ve etiketlenecektir.\r\n",
        "\r\n",
        "Sinir ağları normalleştirilmiş verilerle daha iyi çalıştığı için önce ImageDataGenerator (Görüntü oluşturucu) içine rescale parametresini tanımlıyoruz. Rescale, görüntüdeki her değeri 255'e bölecek sıfır ile bir arasında normalleştirerek yeniden ölçeklendirecektir.\r\n",
        "\r\n",
        "Sırayla train ve validation oluşturucuları tanımlayalım.\r\n",
        "\r\n",
        "*   directory = görüntüleri bulunduran alt dizinleri içeren dizine yönlendirme. Alt dizinlerin adları, içlerinde bulunan görüntülerin etiketleri olacaktır.\r\n",
        "*   target_size = bir sinir ağını eğitmek için tüm giriş (input) verilerinin aynı boyutta olması gerekir, bu nedenle görüntülerin tutarlı olması için yeniden boyutlandırmak gerekir. Bu kodun güzel yanı, görüntülerin yüklenirken sizin için yeniden boyutlandırılmasıdır. Böylece dosya sisteminizde binlerce görüntüyü önceden işlemenize gerek kalmaz.\r\n",
        "*   batch_size = görüntüleri tek tek eğitmek yerine gruplar halinde eğitmek daha verimli olacaktır. \r\n",
        "*   class mode = binary, ikili sınıflandırıcı yani iki farklı şey arasında seçim yapar.\r\n",
        "\r\n",
        "\r\n",
        "\r\n",
        "\r\n",
        "\r\n",
        "  \r\n"
      ]
    },
    {
      "cell_type": "code",
      "metadata": {
        "colab": {
          "base_uri": "https://localhost:8080/"
        },
        "id": "2PHoZh3v7YNL",
        "outputId": "fa47bc80-9379-49e8-80cb-86ab6b5c3eea"
      },
      "source": [
        "from tensorflow.keras.preprocessing.image import ImageDataGenerator\r\n",
        "\r\n",
        "train_datagen = ImageDataGenerator(rescale=1/255)\r\n",
        "validation_datagen = ImageDataGenerator(rescale=1/255)\r\n",
        "\r\n",
        "# Flow training images in batches of 100 using train_datagen generator\r\n",
        "train_generator = train_datagen.flow_from_directory(\r\n",
        "        train,  \r\n",
        "        target_size=(150, 150),  \r\n",
        "        batch_size=100,\r\n",
        "        class_mode='binary')\r\n",
        "\r\n",
        "# Flow training images in batches of 20 using validation_datagen generator\r\n",
        "validation_generator = validation_datagen.flow_from_directory(\r\n",
        "        validation,  \r\n",
        "        target_size=(150, 150), \r\n",
        "        batch_size=20,\r\n",
        "        class_mode='binary')"
      ],
      "execution_count": null,
      "outputs": [
        {
          "output_type": "stream",
          "text": [
            "Found 1000 images belonging to 2 classes.\n",
            "Found 200 images belonging to 2 classes.\n"
          ],
          "name": "stdout"
        }
      ]
    },
    {
      "cell_type": "code",
      "metadata": {
        "id": "P3nvzuixMKwm"
      },
      "source": [
        "class myCallback(tf.keras.callbacks.Callback):\r\n",
        "  def on_epoch_end(self, epoch, logs={}):\r\n",
        "    if(logs.get('accuracy')>0.99):\r\n",
        "      print(\"\\nReached 99% accuracy so cancelling training!\")\r\n",
        "      self.model.stop_training = True\r\n",
        "      \r\n",
        "callbacks = myCallback()"
      ],
      "execution_count": null,
      "outputs": []
    },
    {
      "cell_type": "markdown",
      "metadata": {
        "id": "quH0s2BDV2-_"
      },
      "source": [
        "### Eğitim\r\n",
        "\r\n",
        "Artık modeli eğitebiliriz. \r\n",
        "\r\n",
        "Burada normal fit metodu yerine fit_generator kullanmamızın sebebi, veri kümeleri yerine bir görüntü oluşturucu (ImageDataGenerator) kullanmamızdır. Parametreleri tanıyalım:\r\n",
        "\r\n",
        "\r\n",
        "*   train_generator = Bu görüntüleri eğitim dizininden aktarır. \r\n",
        "*   steps_per_epoch = Eğitim dizininde 500 görüntü var ve batch_size'ı 100 seçerek bir seferde 100 görüntü yüklüyoruz. Hepsini yüklemek için 5 parça(batch) yapmamız gerekiyor.\r\n",
        "*   epochs = Modelin kaç kez çalıştırılacağını gösterir.\r\n",
        "*   verbose = Eğitim devam ederken ne kadar (nasıl) görüntüleneceğini belirtir.\r\n",
        "*   validation_data = Validation oluşturucu\r\n",
        "*   validation_steps = Validation'da 200 görüntü vardı bunları 20'lik gruplar halinde ele almak istedik. Bu yüzden 10 adım olarak belirliyoruz.\r\n",
        "\r\n",
        "\r\n",
        "\r\n",
        "\r\n",
        "\r\n",
        "\r\n",
        "\r\n",
        " \r\n",
        "\r\n"
      ]
    },
    {
      "cell_type": "code",
      "metadata": {
        "id": "Eq4RRO7W7lKa"
      },
      "source": [
        "history = model.fit(\r\n",
        "      train_generator,\r\n",
        "      steps_per_epoch=10,  \r\n",
        "      epochs=20,\r\n",
        "      verbose=1,\r\n",
        "      validation_data = validation_generator,\r\n",
        "      validation_steps=10, callbacks=[callbacks])"
      ],
      "execution_count": null,
      "outputs": []
    },
    {
      "cell_type": "markdown",
      "metadata": {
        "id": "Ql4FqKria1WA"
      },
      "source": [
        "Kod bloğunu run ettikten sonra Epoch içerisinde çıkan loss (kayıp) ve accuracy (doğruluk) verileri eğitimdeki ilerlemenin bir göstergesidir. Eğitim verilerinin sınıflandırılmasıyla ilgili bir tahminde bulunur ve ardından bilinen etikete göre ölçerek sonucu hesaplar. Doğruluk, doğru tahminlerin bir kısmıdır. \r\n",
        "\r\n",
        "Modeli eğitirken, istediğimiz doğruluk oranına ulaştığımızda, eğitimi nasıl durdurabiliriz?\r\n",
        "Eğitim aramaları, geri çağırımları (callbacks) destekliyor. Dolasıyla her epochda ölçümleri kontrol ederek bir kod işlevini geri çağırabilirsiniz. Çağırdığınız yerde durmak istediğiniz nokta oysa, eğitimi orada durdurabilirsiniz. Yukarıdaki myCallback sınıfı, modeli eğitirken accuracy sonucu 0.99'dan büyükse eğitimi durduruyor."
      ]
    },
    {
      "cell_type": "markdown",
      "metadata": {
        "id": "0plBGrN3cgSK"
      },
      "source": [
        "### Modeli Çalıştırma\r\n",
        "\r\n",
        "Şimdi modeli kullanarak gerçekten bir tahmin yapalım. Bu kod, dosya sisteminizden 1 veya daha fazla dosya seçmenize izin verecek, daha sonra bunları yükleyecek ve resmin bir köpek mi yoksa kedi mi olduğuna dair bir gösterge vererek model boyunca çalıştıracaktır."
      ]
    },
    {
      "cell_type": "code",
      "metadata": {
        "id": "35S4epBQMqjW"
      },
      "source": [
        "import numpy as np\r\n",
        "from google.colab import files\r\n",
        "from keras.preprocessing import image\r\n",
        "\r\n",
        "uploaded = files.upload()\r\n",
        "\r\n",
        "for fn in uploaded.keys():\r\n",
        " \r\n",
        "  # predicting images\r\n",
        "  path = '/content/drive/MyDrive/image_classification/' +  fn\r\n",
        "  img = image.load_img(path, target_size=(150, 150))\r\n",
        "  x = image.img_to_array(img)\r\n",
        "  x = np.expand_dims(x, axis=0)\r\n",
        "\r\n",
        "  images = np.vstack([x])\r\n",
        "  classes = model.predict(images, batch_size=10)\r\n",
        "  print(classes[0])\r\n",
        "  if classes[0]>0.5:\r\n",
        "    print(fn + \" is a dog\")\r\n",
        "  else:\r\n",
        "    print(fn + \" is a cat\")"
      ],
      "execution_count": null,
      "outputs": []
    },
    {
      "cell_type": "markdown",
      "metadata": {
        "id": "9FCxro7JpSKs"
      },
      "source": [
        "# REFERANSLAR\r\n",
        "\r\n",
        "*   Coursera, DeepLearning.AI - Introduction to TensorFlow for Artificial Intelligence, Machine Learning, and Deep Learning Eğitimi\r\n",
        "\r\n",
        "*  MIT 6.S191 Introduction to Deep Learning (2021) Eğitim Videoları http://introtodeeplearning.com/\r\n",
        "\r\n"
      ]
    }
  ]
}